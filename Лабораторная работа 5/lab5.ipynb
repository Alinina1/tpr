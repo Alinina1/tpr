{
 "cells": [
  {
   "cell_type": "markdown",
   "metadata": {},
   "source": [
    "**Задание 1**\n",
    "Напишите функцию, которая возвращает название валюты (поле ‘Name’) с максимальным значением курса с помощью сервиса https://www.cbr-xml-daily.ru/daily_json.js\n"
   ]
  },
  {
   "cell_type": "code",
   "execution_count": 24,
   "metadata": {},
   "outputs": [
    {
     "name": "stdout",
     "output_type": "stream",
     "text": [
      "СДР (специальные права заимствования) 112.0834\n"
     ]
    }
   ],
   "source": [
    "import requests\n",
    "class Rate:\n",
    "    def __init__(self, format_='value'):\n",
    "        self.format = format_\n",
    "    \n",
    "    def exchange_rates(self):\n",
    "        self.r = requests.get('https://www.cbr-xml-daily.ru/daily_json.js')\n",
    "        return self.r.json()['Valute']\n",
    "    \n",
    "    def make_format(self, currency):\n",
    "        response = self.exchange_rates()\n",
    "        \n",
    "        if currency in response:\n",
    "            if self.format == 'full':\n",
    "                return response[currency]\n",
    "            \n",
    "            if self.format == 'value':\n",
    "                return response[currency]['Value']\n",
    "        \n",
    "        return 'Error'\n",
    "    \n",
    "    def eur(self):\n",
    "        \"\"\"Возвращает курс евро на сегодня в формате self.format\"\"\"\n",
    "        return self.make_format('EUR')\n",
    "    \n",
    "    def usd(self):\n",
    "        \"\"\"Возвращает курс доллара на сегодня в формате self.format\"\"\"\n",
    "        return self.make_format('USD')\n",
    "    \n",
    "    def brl(self):\n",
    "        \"\"\"Возвращает курс бразильского реала на сегодня в формате self.format\"\"\"\n",
    "        return self.make_format('BRL')\n",
    "    \n",
    "    def max_course(self):\n",
    "        max = -1\n",
    "        max_z = ''\n",
    "        for i in self.exchange_rates():\n",
    "            z = (self.exchange_rates()[i]['Value'])/(self.exchange_rates()[i]['Nominal'])\n",
    "            if z > max:\n",
    "                max = z\n",
    "                max_z = i\n",
    "        return self.exchange_rates()[max_z]['Name'], max\n",
    "    \n",
    "a,b = Rate().max_course()     \n",
    "print(a,b)"
   ]
  },
  {
   "cell_type": "markdown",
   "metadata": {},
   "source": [
    "**Задание 2**\n",
    "Добавьте в класс Rate параметр diff (со значениями True или False), который в случае значения True в методах курсов валют (eur, usd итд) будет возвращать не курс валюты, а изменение по сравнению в прошлым значением. Считайте, self.diff будет принимать значение True только при возврате значения курса. При отображении всей информации о валюте он не используется.\n"
   ]
  },
  {
   "cell_type": "code",
   "execution_count": 11,
   "metadata": {},
   "outputs": [
    {
     "name": "stdout",
     "output_type": "stream",
     "text": [
      "-0.23610000000000042\n"
     ]
    }
   ],
   "source": [
    "import requests\n",
    "class Rate:\n",
    "    def __init__(self, format_='value',diff = False):\n",
    "        self.format = format_\n",
    "        self.diff = diff\n",
    "    \n",
    "    def exchange_rates(self):\n",
    "        self.r = requests.get('https://www.cbr-xml-daily.ru/daily_json.js')\n",
    "        return self.r.json()['Valute']\n",
    "    \n",
    "    def make_format(self, currency):\n",
    "        response = self.exchange_rates()\n",
    "        \n",
    "        if currency in response:\n",
    "            if self.format == 'full':\n",
    "                return response[currency]\n",
    "            \n",
    "            if self.format == 'value':\n",
    "                return response[currency]['Value']\n",
    "        \n",
    "        return 'Error'\n",
    "    \n",
    "    def eur(self):\n",
    "        \"\"\"Возвращает курс евро на сегодня в формате self.format\"\"\"\n",
    "        return self.make_format('EUR')\n",
    "    \n",
    "    def usd(self):\n",
    "        \"\"\"Возвращает курс доллара на сегодня в формате self.format\"\"\"\n",
    "        return self.make_format('USD')\n",
    "    \n",
    "    def brl(self):\n",
    "        \"\"\"Возвращает курс бразильского реала на сегодня в формате self.format\"\"\"\n",
    "        return self.make_format('BRL')\n",
    "    \n",
    "    def diff_info(self,currency):\n",
    "        response = self.exchange_rates()\n",
    "        value = response[currency]['Value']\n",
    "        previous = response[currency]['Previous']\n",
    "        return (value - previous) if (self.diff) else value\n",
    "        \n",
    "a = Rate('full',True).diff_info('AUD')\n",
    "print(a)"
   ]
  },
  {
   "cell_type": "markdown",
   "metadata": {},
   "source": [
    "**Задание 3**\n",
    "Напишите класс Designer, который учитывает количество международных премий для дизайнеров (из презентации: \"Повышение на 1 грейд за каждые 7 баллов. Получение международной премии – это +2 балла\" для каждой аккредитации увеличиваем счетчик на 1, пока считаем, что все дизайнеры проходят аккредитацию). Считайте, что при выходе на работу сотрудник уже имеет две премии и их количество меняется со стажем (получение премии генератор случайных чисел ). Выполните проверку для 20 аккредитаций дизайнера Елены. Подсказки в коде занятия в разделе “Домашнее задание задача 3”.\n"
   ]
  },
  {
   "cell_type": "code",
   "execution_count": 18,
   "metadata": {},
   "outputs": [
    {
     "name": "stdout",
     "output_type": "stream",
     "text": [
      "Елена: 1 уровень, 5 баллов. \n",
      "Елена: 2 уровень, 7 баллов. \n",
      "Елена: 2 уровень, 9 баллов. \n",
      "Елена: 2 уровень, 10 баллов. \n",
      "Елена: 2 уровень, 11 баллов. \n",
      "Елена: 2 уровень, 13 баллов. \n",
      "Елена: 2 уровень, 15 баллов. \n",
      "Елена: 2 уровень, 16 баллов. \n",
      "Елена: 2 уровень, 17 баллов. \n",
      "Елена: 2 уровень, 18 баллов. \n",
      "Елена: 2 уровень, 20 баллов. \n",
      "Елена: 2 уровень, 22 баллов. \n",
      "Елена: 2 уровень, 24 баллов. \n",
      "Елена: 2 уровень, 26 баллов. \n",
      "Елена: 2 уровень, 27 баллов. \n",
      "Елена: 3 уровень, 28 баллов. \n",
      "Елена: 3 уровень, 29 баллов. \n",
      "Елена: 3 уровень, 31 баллов. \n",
      "Елена: 3 уровень, 33 баллов. \n",
      "Елена: 4 уровень, 35 баллов. \n"
     ]
    }
   ],
   "source": [
    "from random import randint\n",
    "\n",
    "class Designer:\n",
    "    def __init__(self,name,seniority,awards):\n",
    "        self.name = name\n",
    "        self.seniority = seniority\n",
    "        self.awards = awards\n",
    "        self.grade = 1\n",
    "        self.score = awards + 2\n",
    "    def info(self):\n",
    "        print(self.name + ': ' + str(self.grade) + ' уровень, ' + str(self.score)+ ' баллов. ')\n",
    "    \n",
    "    def grade_up(self):\n",
    "        self.grade += 1\n",
    "        \n",
    "    def check_if_it_is_time_for_upgrade(self):\n",
    "        self.seniority += 1\n",
    "        self.score += randint(1,2)\n",
    "        if (self.score % 7 == 0):\n",
    "            self.grade_up()\n",
    "        return (self.info())\n",
    "        \n",
    "\n",
    "#Для проверки используйте код:\n",
    "\n",
    "elena = Designer('Елена', seniority=0, awards=2)\n",
    "for i in range(20):\n",
    "    elena.check_if_it_is_time_for_upgrade()"
   ]
  },
  {
   "cell_type": "code",
   "execution_count": null,
   "metadata": {},
   "outputs": [],
   "source": []
  }
 ],
 "metadata": {
  "kernelspec": {
   "display_name": "Python 3",
   "language": "python",
   "name": "python3"
  },
  "language_info": {
   "codemirror_mode": {
    "name": "ipython",
    "version": 3
   },
   "file_extension": ".py",
   "mimetype": "text/x-python",
   "name": "python",
   "nbconvert_exporter": "python",
   "pygments_lexer": "ipython3",
   "version": "3.8.3"
  }
 },
 "nbformat": 4,
 "nbformat_minor": 4
}
