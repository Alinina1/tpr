{
 "cells": [
  {
   "cell_type": "markdown",
   "metadata": {},
   "source": [
    "# Основы Pandas\n",
    "\n",
    "### Задание 1\n",
    "\n",
    "Скачайте с сайта https://grouplens.org/datasets/movielens/ датасет любого размера. Определите какому фильму было выставлено больше всего оценок 5.0.\n"
   ]
  },
  {
   "cell_type": "code",
   "execution_count": 1,
   "metadata": {},
   "outputs": [],
   "source": [
    "import pandas as pd "
   ]
  },
  {
   "cell_type": "code",
   "execution_count": 4,
   "metadata": {},
   "outputs": [
    {
     "data": {
      "text/plain": [
       "318    153\n",
       "Name: movieId, dtype: int64"
      ]
     },
     "execution_count": 4,
     "metadata": {},
     "output_type": "execute_result"
    }
   ],
   "source": [
    "ratings = pd.read_csv(\"ratings.csv\")\n",
    "moviesFive = ratings[ratings.rating == 5]\n",
    "moviesFive[\"movieId\"].value_counts().head(1)"
   ]
  },
  {
   "cell_type": "markdown",
   "metadata": {},
   "source": [
    "### Задание 2\n",
    "\n",
    "По данным файла power.csv посчитайте суммарное потребление стран Прибалтики (Латвия, Литва и Эстония) категорий 4, 12 и 21 за период с 2005 по 2010 года. Не учитывайте в расчетах отрицательные значения quantity."
   ]
  },
  {
   "cell_type": "code",
   "execution_count": 1,
   "metadata": {},
   "outputs": [],
   "source": [
    "import pandas as pd"
   ]
  },
  {
   "cell_type": "code",
   "execution_count": 2,
   "metadata": {},
   "outputs": [
    {
     "data": {
      "text/html": [
       "<div>\n",
       "<style scoped>\n",
       "    .dataframe tbody tr th:only-of-type {\n",
       "        vertical-align: middle;\n",
       "    }\n",
       "\n",
       "    .dataframe tbody tr th {\n",
       "        vertical-align: top;\n",
       "    }\n",
       "\n",
       "    .dataframe thead th {\n",
       "        text-align: right;\n",
       "    }\n",
       "</style>\n",
       "<table border=\"1\" class=\"dataframe\">\n",
       "  <thead>\n",
       "    <tr style=\"text-align: right;\">\n",
       "      <th></th>\n",
       "      <th>country</th>\n",
       "      <th>year</th>\n",
       "      <th>quantity</th>\n",
       "      <th>category</th>\n",
       "    </tr>\n",
       "  </thead>\n",
       "  <tbody>\n",
       "    <tr>\n",
       "      <th>0</th>\n",
       "      <td>Austria</td>\n",
       "      <td>1996</td>\n",
       "      <td>5.0</td>\n",
       "      <td>1</td>\n",
       "    </tr>\n",
       "    <tr>\n",
       "      <th>1</th>\n",
       "      <td>Austria</td>\n",
       "      <td>1995</td>\n",
       "      <td>17.0</td>\n",
       "      <td>1</td>\n",
       "    </tr>\n",
       "    <tr>\n",
       "      <th>2</th>\n",
       "      <td>Belgium</td>\n",
       "      <td>2014</td>\n",
       "      <td>0.0</td>\n",
       "      <td>1</td>\n",
       "    </tr>\n",
       "    <tr>\n",
       "      <th>3</th>\n",
       "      <td>Belgium</td>\n",
       "      <td>2013</td>\n",
       "      <td>0.0</td>\n",
       "      <td>1</td>\n",
       "    </tr>\n",
       "    <tr>\n",
       "      <th>4</th>\n",
       "      <td>Belgium</td>\n",
       "      <td>2012</td>\n",
       "      <td>35.0</td>\n",
       "      <td>1</td>\n",
       "    </tr>\n",
       "  </tbody>\n",
       "</table>\n",
       "</div>"
      ],
      "text/plain": [
       "   country  year  quantity  category\n",
       "0  Austria  1996       5.0         1\n",
       "1  Austria  1995      17.0         1\n",
       "2  Belgium  2014       0.0         1\n",
       "3  Belgium  2013       0.0         1\n",
       "4  Belgium  2012      35.0         1"
      ]
     },
     "execution_count": 2,
     "metadata": {},
     "output_type": "execute_result"
    }
   ],
   "source": [
    "power=pd.read_csv('power.csv')\n",
    "power.head()"
   ]
  },
  {
   "cell_type": "code",
   "execution_count": 3,
   "metadata": {},
   "outputs": [
    {
     "data": {
      "text/html": [
       "<div>\n",
       "<style scoped>\n",
       "    .dataframe tbody tr th:only-of-type {\n",
       "        vertical-align: middle;\n",
       "    }\n",
       "\n",
       "    .dataframe tbody tr th {\n",
       "        vertical-align: top;\n",
       "    }\n",
       "\n",
       "    .dataframe thead th {\n",
       "        text-align: right;\n",
       "    }\n",
       "</style>\n",
       "<table border=\"1\" class=\"dataframe\">\n",
       "  <thead>\n",
       "    <tr style=\"text-align: right;\">\n",
       "      <th></th>\n",
       "      <th>country</th>\n",
       "      <th>year</th>\n",
       "      <th>quantity</th>\n",
       "      <th>category</th>\n",
       "    </tr>\n",
       "  </thead>\n",
       "  <tbody>\n",
       "    <tr>\n",
       "      <th>373</th>\n",
       "      <td>Lithuania</td>\n",
       "      <td>2014</td>\n",
       "      <td>39.0</td>\n",
       "      <td>1</td>\n",
       "    </tr>\n",
       "    <tr>\n",
       "      <th>374</th>\n",
       "      <td>Lithuania</td>\n",
       "      <td>2013</td>\n",
       "      <td>192.0</td>\n",
       "      <td>1</td>\n",
       "    </tr>\n",
       "    <tr>\n",
       "      <th>375</th>\n",
       "      <td>Lithuania</td>\n",
       "      <td>2012</td>\n",
       "      <td>196.0</td>\n",
       "      <td>1</td>\n",
       "    </tr>\n",
       "    <tr>\n",
       "      <th>376</th>\n",
       "      <td>Lithuania</td>\n",
       "      <td>2011</td>\n",
       "      <td>171.0</td>\n",
       "      <td>1</td>\n",
       "    </tr>\n",
       "    <tr>\n",
       "      <th>377</th>\n",
       "      <td>Lithuania</td>\n",
       "      <td>2010</td>\n",
       "      <td>158.0</td>\n",
       "      <td>1</td>\n",
       "    </tr>\n",
       "  </tbody>\n",
       "</table>\n",
       "</div>"
      ],
      "text/plain": [
       "       country  year  quantity  category\n",
       "373  Lithuania  2014      39.0         1\n",
       "374  Lithuania  2013     192.0         1\n",
       "375  Lithuania  2012     196.0         1\n",
       "376  Lithuania  2011     171.0         1\n",
       "377  Lithuania  2010     158.0         1"
      ]
     },
     "execution_count": 3,
     "metadata": {},
     "output_type": "execute_result"
    }
   ],
   "source": [
    "filtered_countries = power[(power['country']=='Estonia') | (power['country']=='Lithuania') | (power['country']=='Latvia') ]\n",
    "filtered_countries.head()"
   ]
  },
  {
   "cell_type": "code",
   "execution_count": 4,
   "metadata": {},
   "outputs": [],
   "source": [
    "fc=filtered_countries[(filtered_countries['category']==4) | (filtered_countries['category']==12) | (filtered_countries['category']==21) & (filtered_countries['year']<2010) & (filtered_countries['year']>2005)]"
   ]
  },
  {
   "cell_type": "code",
   "execution_count": 6,
   "metadata": {},
   "outputs": [
    {
     "name": "stdout",
     "output_type": "stream",
     "text": [
      "Количество потребления равно 165867.0КВт\n"
     ]
    }
   ],
   "source": [
    "print('Количество потребления равно {}КВт'.format(fc['quantity'].sum()))"
   ]
  },
  {
   "cell_type": "markdown",
   "metadata": {},
   "source": [
    "### Задание 3\n",
    "\n",
    "Выберите страницу любого сайта с табличными данными. Импортируйте таблицы в pandas dataframe.\n",
    "Примеры страниц (необязательно брать именно эти):\n",
    "https://fortrader.org/quotes\n",
    "https://www.finanz.ru/valyuty/v-realnom-vremeni"
   ]
  },
  {
   "cell_type": "code",
   "execution_count": 7,
   "metadata": {},
   "outputs": [],
   "source": [
    "import pandas as pd"
   ]
  },
  {
   "cell_type": "code",
   "execution_count": 12,
   "metadata": {},
   "outputs": [],
   "source": [
    "import requests"
   ]
  },
  {
   "cell_type": "code",
   "execution_count": 13,
   "metadata": {},
   "outputs": [],
   "source": [
    "url = 'https://fortrader.org/quotes'"
   ]
  },
  {
   "cell_type": "code",
   "execution_count": 14,
   "metadata": {},
   "outputs": [
    {
     "data": {
      "text/plain": [
       "[                           Название   Цена  Изменение  Изменение(%)  Обновлено\n",
       " 0  EURRUB Курс евро к рублю сегодня  86.65       -4.5         -4.94        NaN\n",
       " 1       USDRUB Курс рубля к доллару  73.13       -4.1         -5.31        NaN,\n",
       "                            Название      Цена  Изменение  Изменение(%)  \\\n",
       " 0  Нефть (BRENT) Курс нефти сегодня     40.12      -0.98         -2.38   \n",
       " 1   Нефть (WTI) Цены на нефть (WTI)     37.82      -1.04         -2.68   \n",
       " 2          Сахар котировки на сахар     12.61      -1.33         -9.54   \n",
       " 3                   Газ Цена на газ      3.00      -0.02         -0.56   \n",
       " 4                             Какао  2 390.00     -62.00         -2.53   \n",
       " 5                              Кофе    106.00      -0.95         -0.89   \n",
       " 6                          Кукуруза    407.40      -8.20         -1.97   \n",
       " 7                               Соя    376.60      -6.90         -1.80   \n",
       " 8                            Хлопок     71.71      -0.32         -0.44   \n",
       " \n",
       "    Обновлено  \n",
       " 0        NaN  \n",
       " 1        NaN  \n",
       " 2        NaN  \n",
       " 3        NaN  \n",
       " 4        NaN  \n",
       " 5        NaN  \n",
       " 6        NaN  \n",
       " 7        NaN  \n",
       " 8        NaN  ,\n",
       "                       Название   Цена  Изменение  Изменение(%)  Обновлено\n",
       " 0      Серебро Цена на серебро  24.06      -0.25         -1.03        NaN\n",
       " 1    Палладий Цена на Палладий  2 285     -55.00         -2.00        NaN\n",
       " 2  Золото Цена золота на бирже  1 894     -14.00         -1.00        NaN\n",
       " 3      Платина Цены на платину    874      -6.00         -1.00        NaN\n",
       " 4      Медь Цена меди на бирже   3.07      -0.01         -0.31        NaN,\n",
       "                                         Название      Цена   Изменение  \\\n",
       " 0                                  ВТБ Акции ВТБ  0.032780   -0.000655   \n",
       " 1                         Газпром Акции газпрома    156.56   -2.650000   \n",
       " 2                            Лукойл Акции Лукойл   4 035.5  -88.000000   \n",
       " 3                        Роснефть Акции Роснефти    358.60  -13.900000   \n",
       " 4                       Сбербанк Акции Сбербанка    203.76   -3.880000   \n",
       " 5           Сургутнефтегаз Акции Сургутнефтегаза    33.505   -0.540000   \n",
       " 6                      Норникель Акции Норникель    18 884 -266.000000   \n",
       " 7                       Аэрофлот Акции Аерофлота     55.92   -1.660000   \n",
       " 8                    Северсталь Акции Северсталь  1 036.40  -26.400000   \n",
       " 9                    Транснефть Акции Транснефть   133 800 -700.000000   \n",
       " 10             Ростелеком Курс акций ростелекома     91.77   -2.060000   \n",
       " 11                      РУСАЛ Акции РУСАЛ (RUAL)    30.910   -0.770000   \n",
       " 12      Детский мир iDreamSky Technology Limited    111.38   -3.120000   \n",
       " 13             Петропавловск Акции Петропавловск     25.65   -0.800000   \n",
       " 14   PayPal Holdings, Inc. PayPal Holdings, Inc.    198.00   -2.430000   \n",
       " 15                        НМЛК Акции НЛМК (NLMK)   176.080   -4.540000   \n",
       " 16                    Алроса Акции АЛРОСА (ALRS)    71.270   -3.190000   \n",
       " 17                    Магнит Акции Магнит (MGNT)   4 694.5  -89.500000   \n",
       " 18                  М.видео Акции М.видео (MVID)    672.70   -6.900000   \n",
       " 19    Газпром нефть Акции \"Газпром нефть\" (SIBN)    273.55   -2.650000   \n",
       " 20                        НМТП Акции НМТП (NMTP)    7.8500   -0.130000   \n",
       " 21            Полиметалл Акции Полиметалл (POLY)  1 744.20  -26.100000   \n",
       " 22        Полюс Золото Акции Полюс Золото (PLZL)  16 050.5 -448.500000   \n",
       " 23                  НОВАТЭК Акции НОВАТЭК (NVTK)  1 006.60  -25.400000   \n",
       " 24                РусГидро Акции РусГидро (HYDR)    0.7206   -0.004100   \n",
       " 25                Татнефть Акции Татнефть (TATN)    406.70  -13.800000   \n",
       " 26        АФК Система Акции АФК \"Система\" (AFKS)    24.499   -0.141000   \n",
       " 27                                 МТС Акции МТС    312.30   -3.900000   \n",
       " 28                Башнефть Акции Башнефть (BANE)   1 507.5  -43.500000   \n",
       " 29                    Яндекс Акции Яндекс (YNDX)   4 528.0  -72.800000   \n",
       " 30  X5 Retail Group Акции X5 Retail Group (FIVE)  2 757.50  -67.000000   \n",
       " 31                  ФСК ЕЭС Акции ФСК ЕЭС (FEES)   0.18550   -0.003640   \n",
       " 32                      Мечел Акции Мечел (MTLR)     56.49   -1.320000   \n",
       " 33                МосБиржа Акции МосБиржа (MOEX)    139.03   -2.150000   \n",
       " 34                                      ИнтерРАО  5.031500   -0.145500   \n",
       " 35                                       MAIL.RU  2 111.00  -40.000000   \n",
       " 36                                          Киви   1 128.0  -30.500000   \n",
       " 37                                      LENTA.RU    216.20   -2.300000   \n",
       " 38                                      Тинькофф     25.80    0.000000   \n",
       " \n",
       "     Изменение(%)  Обновлено  \n",
       " 0      -1.959025        NaN  \n",
       " 1      -1.660000        NaN  \n",
       " 2      -2.100000        NaN  \n",
       " 3      -3.730000        NaN  \n",
       " 4      -1.870000        NaN  \n",
       " 5      -1.586000        NaN  \n",
       " 6      -1.000000        NaN  \n",
       " 7      -2.880000        NaN  \n",
       " 8      -2.480000        NaN  \n",
       " 9      -1.000000        NaN  \n",
       " 10     -2.200000        NaN  \n",
       " 11     -2.431000        NaN  \n",
       " 12     -2.720000        NaN  \n",
       " 13     -3.020000        NaN  \n",
       " 14     -1.210000        NaN  \n",
       " 15     -2.514000        NaN  \n",
       " 16     -4.284000        NaN  \n",
       " 17     -1.900000        NaN  \n",
       " 18     -1.020000        NaN  \n",
       " 19     -0.960000        NaN  \n",
       " 20     -1.629100        NaN  \n",
       " 21     -1.470000        NaN  \n",
       " 22     -2.700000        NaN  \n",
       " 23     -2.460000        NaN  \n",
       " 24     -0.565800        NaN  \n",
       " 25     -3.280000        NaN  \n",
       " 26     -0.572000        NaN  \n",
       " 27     -1.230000        NaN  \n",
       " 28     -2.800000        NaN  \n",
       " 29     -1.600000        NaN  \n",
       " 30     -2.370000        NaN  \n",
       " 31     -1.924500        NaN  \n",
       " 32     -2.280000        NaN  \n",
       " 33     -1.520000        NaN  \n",
       " 34     -2.810508        NaN  \n",
       " 35     -1.860000        NaN  \n",
       " 36     -2.600000        NaN  \n",
       " 37     -1.050000        NaN  \n",
       " 38      0.000000        NaN  ,\n",
       "                                              Название      Цена  Изменение  \\\n",
       " 0                                 IBM Corp. IBM Corp.    108.71      -1.85   \n",
       " 1                           Microsoft Microsoft Corp.    208.81      -4.44   \n",
       " 2                                   APPLE Акции APPLE    115.22      -1.38   \n",
       " 3                                 Toyota Акции Тойоты    130.20      -2.26   \n",
       " 4                                Yandex Акции яндекса     57.80      -1.73   \n",
       " 5                    Volkswagen Курс акций Volkswagen    126.82      -5.20   \n",
       " 6                   Amazon.com, Inc. Amazon.com, Inc.  3 255.92     -30.41   \n",
       " 7                 Intel Corporation Intel Corporation     45.03      -0.61   \n",
       " 8                         Boeing Акции Boeing Company    156.10       0.86   \n",
       " 9   Pfizer, Inc. Common Stock Pfizer, Inc. Common ...     36.90      -0.53   \n",
       " 10                          Coca-Cola Акции Coca-Cola     49.15      -0.75   \n",
       " 11                       Netflix Акции Netflix (NFLX)    485.07      -3.86   \n",
       " 12  Advanced Micro Devices, Inc. Advanced Micro De...     79.00       0.12   \n",
       " 13              NVIDIA Corporation NVIDIA Corporation    529.65      -6.22   \n",
       " 14                Walt Disney Акции Walt Disney (DIS)    121.12      -2.19   \n",
       " 15                       Facebook Цена акций Facebook    280.01      -3.28   \n",
       " 16                          Tesla Цены на акции Тесла    418.18      -6.50   \n",
       " 17                          Twiter Цена акций твитера     50.74      -0.53   \n",
       " 18                  Hasbro Цена на акции Hasbro, Inc.     83.50      -1.60   \n",
       " 19                                             Сименс    102.08      -4.04   \n",
       " 20                                        Master Card    312.75      -4.36   \n",
       " 21                                            Moderna     70.00      -0.67   \n",
       " 22                                               Qiwi     14.39      -0.56   \n",
       " 23                      Макдональдс Акции Макдональдс    218.26      -4.71   \n",
       " 24                                               ZOOM    545.50       6.51   \n",
       " \n",
       "     Изменение(%)  Обновлено  \n",
       " 0          -1.67        NaN  \n",
       " 1          -2.08        NaN  \n",
       " 2          -1.18        NaN  \n",
       " 3          -1.71        NaN  \n",
       " 4          -2.91        NaN  \n",
       " 5          -3.94        NaN  \n",
       " 6          -0.93        NaN  \n",
       " 7          -1.34        NaN  \n",
       " 8           0.55        NaN  \n",
       " 9          -1.42        NaN  \n",
       " 10         -1.50        NaN  \n",
       " 11         -0.79        NaN  \n",
       " 12          0.15        NaN  \n",
       " 13         -1.16        NaN  \n",
       " 14         -1.78        NaN  \n",
       " 15         -1.16        NaN  \n",
       " 16         -1.53        NaN  \n",
       " 17         -1.03        NaN  \n",
       " 18         -1.88        NaN  \n",
       " 19         -3.81        NaN  \n",
       " 20         -1.37        NaN  \n",
       " 21         -0.95        NaN  \n",
       " 22         -3.75        NaN  \n",
       " 23         -2.11        NaN  \n",
       " 24          1.21        NaN  ,\n",
       "                                    Название       Цена Изменение  \\\n",
       " 0                                   S&P 500      3 337       -29   \n",
       " 1   Фьючерс РТС Курс фьючерса на индекс РТС   1 091.23    -40.13   \n",
       " 2                       Индекс Dow 30 (DJI)  27 463.20      0.00   \n",
       " 3                      РТС Курс индекса РТС    108 790    -3 510   \n",
       " 4                                     DAX30   11 674.6    -338.0   \n",
       " 5                                      FTSE   7 174.32      0.00   \n",
       " 6                                    CAC 40    4 585.6     -82.6   \n",
       " 7                                Nasdaq 100  11 599.00      0.00   \n",
       " 8                              Russell 2000   1 590.48      0.00   \n",
       " 9                                   IBEX 35    6 513.9    -122.1   \n",
       " 10                               Nikkei 225     23 251      -110   \n",
       " 11                            Euro Stoxx 50    2 976.4     -50.4   \n",
       " 12                              S&P/ASX 200    6 033.5      -3.0   \n",
       " 13                               Index MOEX    271 500    -5 425   \n",
       " 14                                     MSCI     345.00    -11.90   \n",
       " \n",
       "     Изменение(%)  Обновлено  \n",
       " 0          -1.00        NaN  \n",
       " 1          -3.55        NaN  \n",
       " 2           0.00        NaN  \n",
       " 3          -3.00        NaN  \n",
       " 4          -2.80        NaN  \n",
       " 5           0.00        NaN  \n",
       " 6          -1.80        NaN  \n",
       " 7           0.00        NaN  \n",
       " 8           0.00        NaN  \n",
       " 9          -1.80        NaN  \n",
       " 10         -0.00        NaN  \n",
       " 11         -1.70        NaN  \n",
       " 12         -0.00        NaN  \n",
       " 13         -2.00        NaN  \n",
       " 14         -3.33        NaN  ,\n",
       "                                             Название       Цена  Изменение  \\\n",
       " 0                         EURUSD Курс евро к доллару    1.17368   -0.00445   \n",
       " 1   AUDUSD Курс австралийского доллара к доллару сша    0.70779   -0.00447   \n",
       " 2                        GBPUSD Курс фунта к доллару    1.29603   -0.00699   \n",
       " 3       USDCAD Курс канадского доллара к доллару сша    1.32546    0.00636   \n",
       " 4                         USDJPY Курс йены к доллару  104.28500   -0.26000   \n",
       " 5         AUDCAD Australian Dollar / Canadian Dollar    0.93813   -0.00148   \n",
       " 6                          EURCHF Euro / Swiss Franc    1.06978   -0.00108   \n",
       " 7                  EURGBP Euro / Great Britain Pound    0.90544    0.00133   \n",
       " 8                         EURJPY Euro / Japanese Yen  122.40100   -0.76300   \n",
       " 9          GBPJPY Great Britain Pound / Japanese Yen  135.15400   -1.07400   \n",
       " 10             NZDUSD New Zealand Dollar / US Dollar    0.66623   -0.00374   \n",
       " 11                    USDCHF US Dollar / Swiss Franc    0.91147    0.00255   \n",
       " 12         USDCNH Курс китайского юаня к доллару США    6.71700   -0.00100   \n",
       " \n",
       "     Изменение(%)  Обновлено  \n",
       " 0       -0.37772        NaN  \n",
       " 1       -0.62758        NaN  \n",
       " 2       -0.53645        NaN  \n",
       " 3        0.48215        NaN  \n",
       " 4       -0.24900        NaN  \n",
       " 5       -0.15751        NaN  \n",
       " 6       -0.10085        NaN  \n",
       " 7        0.14711        NaN  \n",
       " 8       -0.61900        NaN  \n",
       " 9       -0.78800        NaN  \n",
       " 10      -0.55823        NaN  \n",
       " 11       0.28055        NaN  \n",
       " 12      -0.01490        NaN  ,\n",
       "                                              Название       Цена   Изменение  \\\n",
       " 0                               Bitcoin Курс биткоина  13 324.20 -306.900000   \n",
       " 1          Litecoin Курс лайткоин к доллару (LTC/USD)     57.137   -0.802000   \n",
       " 2   BitcoinCash Курс Биткоин кеш к доллару США (BC...     271.44    7.450000   \n",
       " 3                                           Dash Dash     68.015   -2.667000   \n",
       " 4                                       Ripple Ripple      0.248   -0.005000   \n",
       " 5                                   Ethereum Ethereum     387.02  -16.450000   \n",
       " 6                                         Zcash (ZEC)     59.038   -2.155000   \n",
       " 7                                           NEO (NEO)       16.3   -0.700000   \n",
       " 8                                           EOS (EOS)     2.6457   -0.025800   \n",
       " 9                                          TRON (TRX)   0.026903   -0.000085   \n",
       " 10                                             Monero     130.31   -3.620000   \n",
       " 11                                               IOTA    0.27074   -0.006270   \n",
       " 12                       ETC/USD эфириум классик, ETC     5.6148   -0.035700   \n",
       " \n",
       "     Изменение(%)  Обновлено  \n",
       " 0      -2.250000        NaN  \n",
       " 1      -1.384000        NaN  \n",
       " 2       2.820000        NaN  \n",
       " 3      -3.773000        NaN  \n",
       " 4      -1.887000        NaN  \n",
       " 5      -4.080000        NaN  \n",
       " 6      -3.522000        NaN  \n",
       " 7      -4.100000        NaN  \n",
       " 8      -0.965700        NaN  \n",
       " 9      -0.314955        NaN  \n",
       " 10     -2.700000        NaN  \n",
       " 11     -2.263460        NaN  \n",
       " 12     -0.631800        NaN  ]"
      ]
     },
     "execution_count": 14,
     "metadata": {},
     "output_type": "execute_result"
    }
   ],
   "source": [
    "df = pd.read_html(requests.get(url).text, encoding='utf-8', header=0) \n",
    "df"
   ]
  },
  {
   "cell_type": "markdown",
   "metadata": {},
   "source": [
    "### Задание 4\n",
    "\n",
    "Напишите функцию, которая классифицирует фильмы из материалов занятия по следующим правилам:\n",
    "- оценка 2 и меньше - низкий рейтинг\n",
    "- оценка 4 и меньше - средний рейтинг\n",
    "- оценка 4.5 и 5 - высокий рейтинг\n",
    "\n",
    "Результат классификации запишите в столбец class"
   ]
  },
  {
   "cell_type": "code",
   "execution_count": 15,
   "metadata": {},
   "outputs": [],
   "source": [
    "import pandas as pd"
   ]
  },
  {
   "cell_type": "code",
   "execution_count": 16,
   "metadata": {},
   "outputs": [],
   "source": [
    "ratings = pd.read_csv(\"ratings.csv\")"
   ]
  },
  {
   "cell_type": "code",
   "execution_count": 18,
   "metadata": {},
   "outputs": [
    {
     "data": {
      "text/html": [
       "<div>\n",
       "<style scoped>\n",
       "    .dataframe tbody tr th:only-of-type {\n",
       "        vertical-align: middle;\n",
       "    }\n",
       "\n",
       "    .dataframe tbody tr th {\n",
       "        vertical-align: top;\n",
       "    }\n",
       "\n",
       "    .dataframe thead th {\n",
       "        text-align: right;\n",
       "    }\n",
       "</style>\n",
       "<table border=\"1\" class=\"dataframe\">\n",
       "  <thead>\n",
       "    <tr style=\"text-align: right;\">\n",
       "      <th></th>\n",
       "      <th>userId</th>\n",
       "      <th>movieId</th>\n",
       "      <th>rating</th>\n",
       "      <th>timestamp</th>\n",
       "      <th>class</th>\n",
       "    </tr>\n",
       "  </thead>\n",
       "  <tbody>\n",
       "    <tr>\n",
       "      <th>0</th>\n",
       "      <td>1</td>\n",
       "      <td>1</td>\n",
       "      <td>4.0</td>\n",
       "      <td>964982703</td>\n",
       "      <td>средний</td>\n",
       "    </tr>\n",
       "    <tr>\n",
       "      <th>1</th>\n",
       "      <td>1</td>\n",
       "      <td>3</td>\n",
       "      <td>4.0</td>\n",
       "      <td>964981247</td>\n",
       "      <td>средний</td>\n",
       "    </tr>\n",
       "    <tr>\n",
       "      <th>2</th>\n",
       "      <td>1</td>\n",
       "      <td>6</td>\n",
       "      <td>4.0</td>\n",
       "      <td>964982224</td>\n",
       "      <td>средний</td>\n",
       "    </tr>\n",
       "    <tr>\n",
       "      <th>3</th>\n",
       "      <td>1</td>\n",
       "      <td>47</td>\n",
       "      <td>5.0</td>\n",
       "      <td>964983815</td>\n",
       "      <td>высокий</td>\n",
       "    </tr>\n",
       "    <tr>\n",
       "      <th>4</th>\n",
       "      <td>1</td>\n",
       "      <td>50</td>\n",
       "      <td>5.0</td>\n",
       "      <td>964982931</td>\n",
       "      <td>высокий</td>\n",
       "    </tr>\n",
       "  </tbody>\n",
       "</table>\n",
       "</div>"
      ],
      "text/plain": [
       "   userId  movieId  rating  timestamp    class\n",
       "0       1        1     4.0  964982703  средний\n",
       "1       1        3     4.0  964981247  средний\n",
       "2       1        6     4.0  964982224  средний\n",
       "3       1       47     5.0  964983815  высокий\n",
       "4       1       50     5.0  964982931  высокий"
      ]
     },
     "execution_count": 18,
     "metadata": {},
     "output_type": "execute_result"
    }
   ],
   "source": [
    "ratings.loc[ratings[\"rating\"] < 2, \"class\"] = \"низкий\"\n",
    "ratings.loc[ratings[\"rating\"] <= 4, \"class\"] = \"средний\"\n",
    "ratings.loc[ratings[\"rating\"] > 4, \"class\"] = \"высокий\"\n",
    "ratings.head()"
   ]
  },
  {
   "cell_type": "markdown",
   "metadata": {},
   "source": [
    "### Задание 5\n",
    "\n",
    "Используем файл keywords.csv.\n",
    "\n",
    "Необходимо написать гео-классификатор, который каждой строке сможет выставить географическую принадлежность определенному региону. Т. е. если поисковый запрос содержит название города региона, то в столбце ‘region’ пишется название этого региона. Если поисковый запрос не содержит названия города, то ставим ‘undefined’.\n",
    "\n",
    "Правила распределения по регионам Центр, Северо-Запад и Дальний Восток:\n",
    "\n",
    "geo_data = {\n",
    "'Центр': ['москва', 'тула', 'ярославль'],\n",
    "'Северо-Запад': ['петербург', 'псков', 'мурманск'],\n",
    "'Дальний Восток': ['владивосток', 'сахалин', 'хабаровск']\n",
    "}\n",
    "\n",
    "Результат классификации запишите в отдельный столбец region."
   ]
  },
  {
   "cell_type": "code",
   "execution_count": 20,
   "metadata": {},
   "outputs": [],
   "source": [
    "import pandas as pd\n",
    "dt = pd.read_csv('keywords.csv')"
   ]
  },
  {
   "cell_type": "code",
   "execution_count": 21,
   "metadata": {},
   "outputs": [],
   "source": [
    "geo_data = { 'Центр': ['москва', 'тула', 'ярославль'], 'Северо-Запад': ['петербург', 'псков', 'мурманск'], 'Дальний Восток': ['владивосток', 'сахалин', 'хабаровск'] }"
   ]
  },
  {
   "cell_type": "code",
   "execution_count": 22,
   "metadata": {},
   "outputs": [],
   "source": [
    "d = {}\n",
    "for region in geo_data:\n",
    "    gorod = geo_data[region]\n",
    "    d.update({key:value for key,value in zip(gorod,[region for i in gorod])})"
   ]
  },
  {
   "cell_type": "code",
   "execution_count": 24,
   "metadata": {},
   "outputs": [
    {
     "data": {
      "text/html": [
       "<div>\n",
       "<style scoped>\n",
       "    .dataframe tbody tr th:only-of-type {\n",
       "        vertical-align: middle;\n",
       "    }\n",
       "\n",
       "    .dataframe tbody tr th {\n",
       "        vertical-align: top;\n",
       "    }\n",
       "\n",
       "    .dataframe thead th {\n",
       "        text-align: right;\n",
       "    }\n",
       "</style>\n",
       "<table border=\"1\" class=\"dataframe\">\n",
       "  <thead>\n",
       "    <tr style=\"text-align: right;\">\n",
       "      <th></th>\n",
       "      <th>keyword</th>\n",
       "      <th>shows</th>\n",
       "      <th>region</th>\n",
       "    </tr>\n",
       "  </thead>\n",
       "  <tbody>\n",
       "    <tr>\n",
       "      <th>0</th>\n",
       "      <td>вк</td>\n",
       "      <td>64292779</td>\n",
       "      <td>undefined</td>\n",
       "    </tr>\n",
       "    <tr>\n",
       "      <th>1</th>\n",
       "      <td>одноклассники</td>\n",
       "      <td>63810309</td>\n",
       "      <td>undefined</td>\n",
       "    </tr>\n",
       "    <tr>\n",
       "      <th>2</th>\n",
       "      <td>порно</td>\n",
       "      <td>41747114</td>\n",
       "      <td>undefined</td>\n",
       "    </tr>\n",
       "    <tr>\n",
       "      <th>3</th>\n",
       "      <td>ютуб</td>\n",
       "      <td>39995567</td>\n",
       "      <td>undefined</td>\n",
       "    </tr>\n",
       "    <tr>\n",
       "      <th>4</th>\n",
       "      <td>вконтакте</td>\n",
       "      <td>21014195</td>\n",
       "      <td>undefined</td>\n",
       "    </tr>\n",
       "  </tbody>\n",
       "</table>\n",
       "</div>"
      ],
      "text/plain": [
       "         keyword     shows     region\n",
       "0             вк  64292779  undefined\n",
       "1  одноклассники  63810309  undefined\n",
       "2          порно  41747114  undefined\n",
       "3           ютуб  39995567  undefined\n",
       "4      вконтакте  21014195  undefined"
      ]
     },
     "execution_count": 24,
     "metadata": {},
     "output_type": "execute_result"
    }
   ],
   "source": [
    "dt['region'] = dt['keyword'].map(d)\n",
    "dt['region'] = dt['region'].fillna('undefined')\n",
    "dt.head()"
   ]
  },
  {
   "cell_type": "markdown",
   "metadata": {},
   "source": [
    "### Задание 6\n",
    "\n",
    "Есть мнение, что “раньше снимали настоящее кино, не то что сейчас”. Ваша задача проверить это утверждение, используя файлы с рейтингами фильмов из прошлого домашнего занятия (файл ratings.csv из базы https://grouplens.org/datasets/movielens). Т. е. проверить верно ли, что с ростом года выпуска фильма его средний рейтинг становится ниже.\n",
    "\n",
    "При этом мы не будем затрагивать субьективные факторы выставления этих рейтингов, а пройдемся по следующему алгоритму:\n",
    "\n",
    "В переменную years запишите список из всех годов с 1950 по 2010.\n",
    "\n",
    "Напишите функцию production_year, которая каждой строке из названия фильма выставляет год выпуска. Не все названия фильмов содержат год выпуска в одинаковом формате, поэтому используйте следующий алгоритм:\n",
    "\n",
    "для каждой строки пройдите по всем годам списка years\n",
    "если номер года присутствует в названии фильма, то функция возвращает этот год как год выпуска\n",
    "если ни один из номеров года списка years не встретился в названии фильма, то возвращается 1900 год\n",
    "Запишите год выпуска фильма по алгоритму пункта 2 в новый столбец ‘year’\n",
    "\n",
    "Посчитайте средний рейтинг всех фильмов для каждого значения столбца ‘year’ и отсортируйте результат по убыванию рейтинга"
   ]
  },
  {
   "cell_type": "code",
   "execution_count": 26,
   "metadata": {},
   "outputs": [],
   "source": [
    "import pandas as pd"
   ]
  },
  {
   "cell_type": "code",
   "execution_count": 27,
   "metadata": {},
   "outputs": [],
   "source": [
    "movies = pd.read_csv('movies.csv')\n",
    "ratings = pd.read_csv('ratings.csv')"
   ]
  },
  {
   "cell_type": "code",
   "execution_count": 28,
   "metadata": {},
   "outputs": [],
   "source": [
    "dt = ratings.merge(movies, on=[\"movieId\"], how='inner')"
   ]
  },
  {
   "cell_type": "code",
   "execution_count": 29,
   "metadata": {},
   "outputs": [],
   "source": [
    "years = []\n",
    "for year in range(1950,2010):\n",
    "    years.append(year)"
   ]
  },
  {
   "cell_type": "code",
   "execution_count": 30,
   "metadata": {},
   "outputs": [],
   "source": [
    "num = len(years)\n",
    "j = []\n",
    "for i in range(1,num+1):\n",
    "    j.append(i)"
   ]
  },
  {
   "cell_type": "code",
   "execution_count": 31,
   "metadata": {},
   "outputs": [],
   "source": [
    "def year_pr(title):\n",
    "    for year in years:\n",
    "        if str(year) in title:\n",
    "            return year\n",
    "    return 1900"
   ]
  },
  {
   "cell_type": "code",
   "execution_count": 33,
   "metadata": {},
   "outputs": [],
   "source": [
    "dt['year'] = dt['title'].apply(year_pr)"
   ]
  },
  {
   "cell_type": "code",
   "execution_count": 34,
   "metadata": {},
   "outputs": [
    {
     "data": {
      "text/html": [
       "<div>\n",
       "<style scoped>\n",
       "    .dataframe tbody tr th:only-of-type {\n",
       "        vertical-align: middle;\n",
       "    }\n",
       "\n",
       "    .dataframe tbody tr th {\n",
       "        vertical-align: top;\n",
       "    }\n",
       "\n",
       "    .dataframe thead th {\n",
       "        text-align: right;\n",
       "    }\n",
       "</style>\n",
       "<table border=\"1\" class=\"dataframe\">\n",
       "  <thead>\n",
       "    <tr style=\"text-align: right;\">\n",
       "      <th></th>\n",
       "      <th>rating</th>\n",
       "    </tr>\n",
       "    <tr>\n",
       "      <th>year</th>\n",
       "      <th></th>\n",
       "    </tr>\n",
       "  </thead>\n",
       "  <tbody>\n",
       "    <tr>\n",
       "      <th>1957</th>\n",
       "      <td>4.039535</td>\n",
       "    </tr>\n",
       "    <tr>\n",
       "      <th>1954</th>\n",
       "      <td>4.009191</td>\n",
       "    </tr>\n",
       "    <tr>\n",
       "      <th>1962</th>\n",
       "      <td>3.969466</td>\n",
       "    </tr>\n",
       "    <tr>\n",
       "      <th>1952</th>\n",
       "      <td>3.953125</td>\n",
       "    </tr>\n",
       "    <tr>\n",
       "      <th>1972</th>\n",
       "      <td>3.944293</td>\n",
       "    </tr>\n",
       "  </tbody>\n",
       "</table>\n",
       "</div>"
      ],
      "text/plain": [
       "        rating\n",
       "year          \n",
       "1957  4.039535\n",
       "1954  4.009191\n",
       "1962  3.969466\n",
       "1952  3.953125\n",
       "1972  3.944293"
      ]
     },
     "execution_count": 34,
     "metadata": {},
     "output_type": "execute_result"
    }
   ],
   "source": [
    "ddt = dt.pivot_table(index=['year'], values = 'rating', aggfunc='mean')\n",
    "sort_ddt = ddt.sort_values(by = ['rating'], ascending = False)\n",
    "sort_ddt.head()"
   ]
  }
 ],
 "metadata": {
  "kernelspec": {
   "display_name": "Python 3",
   "language": "python",
   "name": "python3"
  },
  "language_info": {
   "codemirror_mode": {
    "name": "ipython",
    "version": 3
   },
   "file_extension": ".py",
   "mimetype": "text/x-python",
   "name": "python",
   "nbconvert_exporter": "python",
   "pygments_lexer": "ipython3",
   "version": "3.8.3"
  }
 },
 "nbformat": 4,
 "nbformat_minor": 4
}
